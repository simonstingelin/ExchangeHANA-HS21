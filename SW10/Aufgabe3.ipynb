{
 "cells": [
  {
   "cell_type": "code",
   "execution_count": 1,
   "id": "105db31f",
   "metadata": {},
   "outputs": [
    {
     "name": "stdout",
     "output_type": "stream",
     "text": [
      "importing NGSolve-6.2.2104\n"
     ]
    }
   ],
   "source": [
    "from netgen.meshing import Mesh as NGMesh # Vorsicht es gibt Mesh auch in ngsolve!\n",
    "from netgen.meshing import MeshPoint, Pnt, Element1D, Element0D\n",
    "from ngsolve import *"
   ]
  },
  {
   "cell_type": "code",
   "execution_count": 9,
   "id": "471e37e6",
   "metadata": {},
   "outputs": [
    {
     "name": "stderr",
     "output_type": "stream",
     "text": [
      "Matplotlib created a temporary config/cache directory at /tmp/matplotlib-qv2gc_tc because the default path (/home/jupyter-stiw/.cache/matplotlib) is not a writable directory; it is highly recommended to set the MPLCONFIGDIR environment variable to a writable directory, in particular to speed up the import of Matplotlib and to better support multiprocessing.\n"
     ]
    }
   ],
   "source": [
    "import numpy as np\n",
    "import matplotlib.pyplot as plt"
   ]
  },
  {
   "cell_type": "code",
   "execution_count": 2,
   "id": "b5c7dca9",
   "metadata": {},
   "outputs": [
    {
     "name": "stdout",
     "output_type": "stream",
     "text": [
      " Update mesh topology\n",
      " Update clusters\n"
     ]
    }
   ],
   "source": [
    "m = NGMesh(dim=1)\n",
    "\n",
    "# Anzahl Teilintervalle\n",
    "N = 5\n",
    "\n",
    "# Punkte für die Zerlegung auf dem Intervall [0,1]\n",
    "pnums = []\n",
    "for i in range(0, N+1):\n",
    "    pnums.append (m.Add (MeshPoint (Pnt(i/N, 0, 0))))\n",
    "\n",
    "# Jedes 1D-Element (Teilintervall) kann einem Material zugeordnet\n",
    "# werden. In unserem Fall gibt es nur ein Material.\n",
    "idx = m.AddRegion(\"material\", dim=1)\n",
    "for i in range(0,N):\n",
    "    m.Add (Element1D ([pnums[i],pnums[i+1]], index=idx))\n",
    "\n",
    "# Linkes und Rechtes Ende sind Randwertpunkte (0D-Elemente)\n",
    "idx_left = m.AddRegion(\"left\", dim=0)\n",
    "idx_right = m.AddRegion(\"right\", dim=0)\n",
    "\n",
    "m.Add (Element0D (pnums[0], index=idx_left))\n",
    "m.Add (Element0D (pnums[N], index=idx_right))\n",
    "\n",
    "# Damit haben wir das Mesh definiert\n",
    "mesh = Mesh(m)"
   ]
  },
  {
   "cell_type": "code",
   "execution_count": 19,
   "id": "0080d6c8",
   "metadata": {},
   "outputs": [],
   "source": [
    "V = H1(mesh,order = 1, dirichlet='left|right')\n",
    "#u,v = V.TnT()\n",
    "u = V.TrialFunction()\n",
    "v = V.TestFunction()"
   ]
  },
  {
   "cell_type": "code",
   "execution_count": 20,
   "id": "bc34ff67",
   "metadata": {},
   "outputs": [],
   "source": [
    "a = BilinearForm(V)\n",
    "a += (grad(u)*grad(v))*dx # Steifigkeit\n",
    "a += -(u*v)*dx # Massenmatrix"
   ]
  },
  {
   "cell_type": "code",
   "execution_count": 21,
   "id": "360b692e",
   "metadata": {},
   "outputs": [],
   "source": [
    "f = LinearForm(V)\n",
    "f += cos(x)*v*dx"
   ]
  },
  {
   "cell_type": "code",
   "execution_count": 22,
   "id": "2b4fee8c",
   "metadata": {},
   "outputs": [
    {
     "name": "stdout",
     "output_type": "stream",
     "text": [
      "\r",
      "assemble VOL element 5/5                                 \n"
     ]
    },
    {
     "data": {
      "text/plain": [
       "<ngsolve.comp.LinearForm at 0x7f45d94fc570>"
      ]
     },
     "execution_count": 22,
     "metadata": {},
     "output_type": "execute_result"
    },
    {
     "name": "stdout",
     "output_type": "stream",
     "text": [
      "\r",
      "assemble VOL element 5/5                                 \n"
     ]
    }
   ],
   "source": [
    "a.Assemble()\n",
    "f.Assemble()"
   ]
  },
  {
   "cell_type": "code",
   "execution_count": 23,
   "id": "cf161757",
   "metadata": {},
   "outputs": [
    {
     "data": {
      "text/plain": [
       "('material',)"
      ]
     },
     "execution_count": 23,
     "metadata": {},
     "output_type": "execute_result"
    }
   ],
   "source": [
    "mesh.GetMaterials()"
   ]
  },
  {
   "cell_type": "code",
   "execution_count": 24,
   "id": "cacb05d1",
   "metadata": {
    "scrolled": true
   },
   "outputs": [
    {
     "data": {
      "text/plain": [
       "('left', 'right')"
      ]
     },
     "execution_count": 24,
     "metadata": {},
     "output_type": "execute_result"
    }
   ],
   "source": [
    "mesh.GetBoundaries()"
   ]
  },
  {
   "cell_type": "code",
   "execution_count": 25,
   "id": "0d75a3e0",
   "metadata": {},
   "outputs": [],
   "source": [
    "ug = CoefficientFunction([-1,1])"
   ]
  },
  {
   "cell_type": "code",
   "execution_count": 30,
   "id": "7d126dd5",
   "metadata": {
    "scrolled": true
   },
   "outputs": [
    {
     "name": "stdout",
     "output_type": "stream",
     "text": [
      "\r",
      "setvalues element 2/2                                 \n"
     ]
    }
   ],
   "source": [
    "gfu = GridFunction(V)\n",
    "gfu.Set(ug,definedon=mesh.Boundaries('left|right'))"
   ]
  },
  {
   "cell_type": "code",
   "execution_count": 31,
   "id": "38633b7d",
   "metadata": {},
   "outputs": [
    {
     "name": "stdout",
     "output_type": "stream",
     "text": [
      "      -1\n",
      "       0\n",
      "       0\n",
      "       0\n",
      "       0\n",
      "       1\n",
      "\n",
      "\n"
     ]
    }
   ],
   "source": [
    "print(gfu.vec)"
   ]
  },
  {
   "cell_type": "code",
   "execution_count": 36,
   "id": "3682772f",
   "metadata": {},
   "outputs": [
    {
     "name": "stdout",
     "output_type": "stream",
     "text": [
      "call umfpack ... done\n"
     ]
    }
   ],
   "source": [
    "gfu.vec.data += a.mat.Inverse(freedofs=V.FreeDofs())*(f.vec-a.mat*gfu.vec)"
   ]
  },
  {
   "cell_type": "code",
   "execution_count": 37,
   "id": "d7a19c32",
   "metadata": {},
   "outputs": [],
   "source": [
    "xp = np.linspace(0,1,400)\n",
    "up = np.array([gfu(mesh(xpi)) for xpi in xp])"
   ]
  },
  {
   "cell_type": "code",
   "execution_count": 38,
   "id": "e203f3d7",
   "metadata": {},
   "outputs": [
    {
     "data": {
      "text/plain": [
       "[<matplotlib.lines.Line2D at 0x7f45d944ba90>]"
      ]
     },
     "execution_count": 38,
     "metadata": {},
     "output_type": "execute_result"
    },
    {
     "data": {
      "image/png": "[encoded data removed]",
      "text/plain": [
       "<Figure size 432x288 with 1 Axes>"
      ]
     },
     "metadata": {
      "needs_background": "light"
     },
     "output_type": "display_data"
    }
   ],
   "source": [
    "plt.plot(xp,up)"
   ]
  },
  {
   "cell_type": "code",
   "execution_count": null,
   "id": "d293e289",
   "metadata": {},
   "outputs": [],
   "source": []
  }
 ],
 "metadata": {
  "kernelspec": {
   "display_name": "Python 3 (ipykernel)",
   "language": "python",
   "name": "python3"
  },
  "language_info": {
   "codemirror_mode": {
    "name": "ipython",
    "version": 3
   },
   "file_extension": ".py",
   "mimetype": "text/x-python",
   "name": "python",
   "nbconvert_exporter": "python",
   "pygments_lexer": "ipython3",
   "version": "3.7.3"
  }
 },
 "nbformat": 4,
 "nbformat_minor": 5
}
