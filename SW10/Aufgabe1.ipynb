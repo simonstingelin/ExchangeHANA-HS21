{
 "cells": [
  {
   "cell_type": "code",
   "execution_count": 2,
   "id": "1b46f2d2",
   "metadata": {},
   "outputs": [
    {
     "name": "stdout",
     "output_type": "stream",
     "text": [
      "importing NGSolve-6.2.2104\n"
     ]
    }
   ],
   "source": [
    "from ngsolve import *\n",
    "from ngsolve.webgui import Draw\n",
    "from netgen.geom2d import unit_square"
   ]
  },
  {
   "cell_type": "code",
   "execution_count": 3,
   "id": "2b720761",
   "metadata": {},
   "outputs": [
    {
     "name": "stdout",
     "output_type": "stream",
     "text": [
      " Generate Mesh from spline geometry\n",
      " Boundary mesh done, np = 40\n",
      " CalcLocalH: 40 Points 0 Elements 0 Surface Elements\n",
      " Meshing domain 1 / 1\n",
      " load internal triangle rules\n",
      " Surface meshing done\n",
      " Edgeswapping, topological\n",
      " Smoothing\n",
      " Split improve\n",
      " Combine improve\n",
      " Smoothing\n",
      " Edgeswapping, metric\n",
      " Smoothing\n",
      " Split improve\n",
      " Combine improve\n",
      " Smoothing\n",
      " Edgeswapping, metric\n",
      " Smoothing\n",
      " Split improve\n",
      " Combine improve\n",
      " Smoothing\n",
      " Update mesh topology\n",
      " Update clusters\n"
     ]
    }
   ],
   "source": [
    "mesh = Mesh(unit_square.GenerateMesh(maxh=0.1))"
   ]
  },
  {
   "cell_type": "code",
   "execution_count": 4,
   "id": "c1048ec7",
   "metadata": {},
   "outputs": [],
   "source": [
    "V = H1(mesh,order=1,dirichlet='right|top')\n",
    "gfu = GridFunction(V)\n",
    "u,v = V.TnT()"
   ]
  },
  {
   "cell_type": "code",
   "execution_count": 5,
   "id": "5429ae09",
   "metadata": {},
   "outputs": [
    {
     "name": "stdout",
     "output_type": "stream",
     "text": [
      "\r",
      "assemble VOL element 232/232                                 \n",
      "\r",
      "assemble VOL element 232/232                                 \n"
     ]
    },
    {
     "data": {
      "text/plain": [
       "<ngsolve.comp.LinearForm at 0x7f01433f8340>"
      ]
     },
     "execution_count": 5,
     "metadata": {},
     "output_type": "execute_result"
    }
   ],
   "source": [
    "A = BilinearForm(V)\n",
    "A += grad(u) * grad(v)*dx\n",
    "\n",
    "f = LinearForm(V)\n",
    "f += CoefficientFunction(1)*v*dx\n",
    "\n",
    "A.Assemble()\n",
    "f.Assemble()"
   ]
  },
  {
   "cell_type": "code",
   "execution_count": 6,
   "id": "8839d15f",
   "metadata": {},
   "outputs": [
    {
     "data": {
      "application/vnd.jupyter.widget-view+json": {
       "model_id": "5709d692f9b948a6909ee3f3c3891733",
       "version_major": 2,
       "version_minor": 0
      },
      "text/plain": [
       "WebGuiWidget(value={'ngsolve_version': '6.2.2104', 'mesh_dim': 2, 'order2d': 2, 'order3d': 2, 'draw_vol': Fals…"
      ]
     },
     "metadata": {},
     "output_type": "display_data"
    }
   ],
   "source": [
    "gfu.vec.data = A.mat.Inverse(inverse='sparsecholesky',freedofs=V.FreeDofs())*f.vec\n",
    "Draw(gfu,mesh,'u');"
   ]
  },
  {
   "cell_type": "code",
   "execution_count": 7,
   "id": "8c8f4ef0",
   "metadata": {},
   "outputs": [
    {
     "data": {
      "application/vnd.jupyter.widget-view+json": {
       "model_id": "e2b3af9ecd9d4811a2b8f03782ac1108",
       "version_major": 2,
       "version_minor": 0
      },
      "text/plain": [
       "WebGuiWidget(value={'ngsolve_version': '6.2.2104', 'mesh_dim': 2, 'order2d': 2, 'order3d': 2, 'draw_vol': Fals…"
      ]
     },
     "metadata": {},
     "output_type": "display_data"
    }
   ],
   "source": [
    "Draw(grad(gfu),mesh,'gradu');"
   ]
  },
  {
   "cell_type": "code",
   "execution_count": null,
   "id": "cd84abb8",
   "metadata": {},
   "outputs": [],
   "source": []
  }
 ],
 "metadata": {
  "kernelspec": {
   "display_name": "Python 3 (ipykernel)",
   "language": "python",
   "name": "python3"
  },
  "language_info": {
   "codemirror_mode": {
    "name": "ipython",
    "version": 3
   },
   "file_extension": ".py",
   "mimetype": "text/x-python",
   "name": "python",
   "nbconvert_exporter": "python",
   "pygments_lexer": "ipython3",
   "version": "3.7.3"
  }
 },
 "nbformat": 4,
 "nbformat_minor": 5
}
