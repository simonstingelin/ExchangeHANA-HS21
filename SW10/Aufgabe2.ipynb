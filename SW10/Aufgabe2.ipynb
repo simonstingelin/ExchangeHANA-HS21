{
 "cells": [
  {
   "cell_type": "code",
   "execution_count": 1,
   "id": "1b46f2d2",
   "metadata": {
    "scrolled": true
   },
   "outputs": [
    {
     "name": "stdout",
     "output_type": "stream",
     "text": [
      "importing NGSolve-6.2.2104\n"
     ]
    }
   ],
   "source": [
    "from ngsolve import *\n",
    "from ngsolve.webgui import Draw\n",
    "from netgen.geom2d import unit_square"
   ]
  },
  {
   "cell_type": "code",
   "execution_count": null,
   "id": "51992306",
   "metadata": {},
   "outputs": [],
   "source": [
    "ngsolve."
   ]
  },
  {
   "cell_type": "code",
   "execution_count": 19,
   "id": "c1048ec7",
   "metadata": {},
   "outputs": [],
   "source": [
    "def myfun(h):\n",
    "    mesh = Mesh(unit_square.GenerateMesh(maxh=h))\n",
    "    V = H1(mesh,order=4,dirichlet='right|top|bottom|left')\n",
    "    gfu = GridFunction(V)\n",
    "    u,v = V.TnT()\n",
    "    \n",
    "    A = BilinearForm(V)\n",
    "    A += grad(u) * grad(v)*dx\n",
    "\n",
    "    Uanalytisch = x*(x-1)*y*(y-1)\n",
    "    deltaUanalytisch = -2*x*(x-1)-2*y*(y-1)\n",
    "    f = LinearForm(V)\n",
    "    f += deltaUanalytisch*v*dx\n",
    "\n",
    "    A.Assemble()\n",
    "    f.Assemble()\n",
    "    \n",
    "    gfu.vec.data = A.mat.Inverse(inverse='sparsecholesky',freedofs=V.FreeDofs())*f.vec\n",
    "    return Integrate((gfu-Uanalytisch)**2,mesh,order=5)"
   ]
  },
  {
   "cell_type": "code",
   "execution_count": 9,
   "id": "cd84abb8",
   "metadata": {},
   "outputs": [
    {
     "name": "stdout",
     "output_type": "stream",
     "text": [
      " Generate Mesh from spline geometry\n",
      " Boundary mesh done, np = 16\n",
      " CalcLocalH: 16 Points 0 Elements 0 Surface Elements\n",
      " Meshing domain 1 / 1\n",
      " Surface meshing done\n",
      " Edgeswapping, topological\n",
      " Smoothing\n",
      " Split improve\n",
      " Combine improve\n",
      " Smoothing\n",
      " Edgeswapping, metric\n",
      " Smoothing\n",
      " Split improve\n",
      " Combine improve\n",
      " Smoothing\n",
      " Edgeswapping, metric\n",
      " Smoothing\n",
      " Split improve\n",
      " Combine improve\n",
      " Smoothing\n",
      " Update mesh topology\n",
      " Update clusters\n",
      "assemble VOL element 34/34                                 \n",
      "assemble VOL element 34/34                                 \n",
      " Generate Mesh from spline geometry\n",
      " Boundary mesh done, np = 32\n",
      " CalcLocalH: 32 Points 0 Elements 0 Surface Elements\n",
      " Meshing domain 1 / 1\n",
      " Surface meshing done\n",
      " Edgeswapping, topological\n",
      " Smoothing\n",
      " Split improve\n",
      " Combine improve\n",
      " Smoothing\n",
      " Edgeswapping, metric\n",
      " Smoothing\n",
      " Split improve\n",
      " Combine improve\n",
      " Smoothing\n",
      " Edgeswapping, metric\n",
      " Smoothing\n",
      " Split improve\n",
      " Combine improve\n",
      " Smoothing\n",
      " Update mesh topology\n",
      " Update clusters\n",
      "assemble VOL element 144/144                                 \n",
      "assemble VOL element 144/144                                 \n",
      " Generate Mesh from spline geometry\n",
      " Boundary mesh done, np = 80\n",
      " CalcLocalH: 80 Points 0 Elements 0 Surface Elements\n",
      " Meshing domain 1 / 1\n",
      " Surface meshing done\n",
      " Edgeswapping, topological\n",
      " Smoothing\n",
      " Split improve\n",
      " Combine improve\n",
      " Smoothing\n",
      " Edgeswapping, metric\n",
      " Smoothing\n",
      " Split improve\n",
      " Combine improve\n",
      " Smoothing\n",
      " Edgeswapping, metric\n",
      " Smoothing\n",
      " Split improve\n",
      " Combine improve\n",
      " Smoothing\n",
      " Update mesh topology\n",
      " Update clusters\n",
      "assemble VOL element 940/940                                 \n",
      "assemble VOL element 940/940                                 \n",
      " Generate Mesh from spline geometry\n",
      " Boundary mesh done, np = 400\n",
      " CalcLocalH: 400 Points 0 Elements 0 Surface Elements\n",
      " Meshing domain 1 / 1\n",
      " Surface meshing done\n",
      " Edgeswapping, topological\n",
      " Smoothing\n",
      " Split improve\n",
      " Combine improve\n",
      " Smoothing\n",
      " Edgeswapping, metric\n",
      " Smoothing\n",
      " Split improve\n",
      " Combine improve\n",
      " Smoothing\n",
      " Edgeswapping, metric\n",
      " Smoothing\n",
      " Split improve\n",
      " Combine improve\n",
      " Smoothing\n",
      " Update mesh topology\n",
      " Update clusters\n",
      "assemble VOL element 23156/23156                                 \n",
      "assemble VOL element 23156/23156                                 \n"
     ]
    }
   ],
   "source": [
    "hs = [0.25,0.125,0.05,0.01]\n",
    "err = []\n",
    "for h in hs:\n",
    "    err.append(myfun(h))"
   ]
  },
  {
   "cell_type": "code",
   "execution_count": 10,
   "id": "e0892c2f",
   "metadata": {},
   "outputs": [
    {
     "name": "stderr",
     "output_type": "stream",
     "text": [
      "Matplotlib created a temporary config/cache directory at /tmp/matplotlib-ab3f8fjt because the default path (/home/jupyter-stiw/.cache/matplotlib) is not a writable directory; it is highly recommended to set the MPLCONFIGDIR environment variable to a writable directory, in particular to speed up the import of Matplotlib and to better support multiprocessing.\n"
     ]
    }
   ],
   "source": [
    "import matplotlib.pyplot as plt"
   ]
  },
  {
   "cell_type": "code",
   "execution_count": 12,
   "id": "80919f1d",
   "metadata": {},
   "outputs": [
    {
     "data": {
      "image/png": "[encoded data removed]",
      "text/plain": [
       "<Figure size 432x288 with 1 Axes>"
      ]
     },
     "metadata": {
      "needs_background": "light"
     },
     "output_type": "display_data"
    }
   ],
   "source": [
    "plt.loglog(hs,err)\n",
    "plt.grid()"
   ]
  },
  {
   "cell_type": "code",
   "execution_count": null,
   "id": "7de356a3",
   "metadata": {},
   "outputs": [],
   "source": []
  }
 ],
 "metadata": {
  "kernelspec": {
   "display_name": "Python 3 (ipykernel)",
   "language": "python",
   "name": "python3"
  },
  "language_info": {
   "codemirror_mode": {
    "name": "ipython",
    "version": 3
   },
   "file_extension": ".py",
   "mimetype": "text/x-python",
   "name": "python",
   "nbconvert_exporter": "python",
   "pygments_lexer": "ipython3",
   "version": "3.7.3"
  }
 },
 "nbformat": 4,
 "nbformat_minor": 5
}
