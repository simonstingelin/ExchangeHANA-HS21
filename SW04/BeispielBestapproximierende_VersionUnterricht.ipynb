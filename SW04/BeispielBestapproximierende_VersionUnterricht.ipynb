{
 "cells": [
  {
   "cell_type": "markdown",
   "id": "8c62cbb4",
   "metadata": {},
   "source": [
    "# Beispiel bestapproximierendes Element"
   ]
  },
  {
   "cell_type": "code",
   "execution_count": 1,
   "id": "f71ca009",
   "metadata": {},
   "outputs": [],
   "source": [
    "import sympy as sp\n",
    "import numpy as np"
   ]
  },
  {
   "cell_type": "code",
   "execution_count": 2,
   "id": "cb408396",
   "metadata": {},
   "outputs": [
    {
     "name": "stderr",
     "output_type": "stream",
     "text": [
      "Matplotlib created a temporary config/cache directory at /tmp/matplotlib-jo55xr6y because the default path (/home/jupyter-stiw/.cache/matplotlib) is not a writable directory; it is highly recommended to set the MPLCONFIGDIR environment variable to a writable directory, in particular to speed up the import of Matplotlib and to better support multiprocessing.\n"
     ]
    }
   ],
   "source": [
    "import matplotlib.pyplot as plt"
   ]
  },
  {
   "cell_type": "code",
   "execution_count": 3,
   "id": "e950db25",
   "metadata": {},
   "outputs": [],
   "source": [
    "from sympy import pi"
   ]
  },
  {
   "cell_type": "code",
   "execution_count": 4,
   "id": "518b84b7",
   "metadata": {},
   "outputs": [],
   "source": [
    "def dot(u,v):\n",
    "    return sp.integrate(u*v,(t,-pi,pi))"
   ]
  },
  {
   "cell_type": "code",
   "execution_count": 5,
   "id": "fbfa60bd",
   "metadata": {},
   "outputs": [],
   "source": [
    "n=5"
   ]
  },
  {
   "cell_type": "code",
   "execution_count": 6,
   "id": "2105129e",
   "metadata": {},
   "outputs": [],
   "source": [
    "t, k  = sp.symbols('t k')"
   ]
  },
  {
   "cell_type": "code",
   "execution_count": 7,
   "id": "72b0b1bc",
   "metadata": {},
   "outputs": [],
   "source": [
    "def x(t):\n",
    "    return sp.sin(t)"
   ]
  },
  {
   "cell_type": "code",
   "execution_count": 8,
   "id": "dda5ffda",
   "metadata": {},
   "outputs": [],
   "source": [
    "basisset = [t**i for i in range(n+1)]"
   ]
  },
  {
   "cell_type": "code",
   "execution_count": 9,
   "id": "9483245b",
   "metadata": {},
   "outputs": [
    {
     "data": {
      "text/plain": [
       "[1, t, t**2, t**3, t**4, t**5]"
      ]
     },
     "execution_count": 9,
     "metadata": {},
     "output_type": "execute_result"
    }
   ],
   "source": [
    "basisset"
   ]
  },
  {
   "cell_type": "code",
   "execution_count": 10,
   "id": "d8c317c7",
   "metadata": {},
   "outputs": [
    {
     "data": {
      "text/plain": [
       "[[2*pi, 0, 2*pi**3/3, 0, 2*pi**5/5, 0],\n",
       " [0, 2*pi**3/3, 0, 2*pi**5/5, 0, 2*pi**7/7],\n",
       " [2*pi**3/3, 0, 2*pi**5/5, 0, 2*pi**7/7, 0],\n",
       " [0, 2*pi**5/5, 0, 2*pi**7/7, 0, 2*pi**9/9],\n",
       " [2*pi**5/5, 0, 2*pi**7/7, 0, 2*pi**9/9, 0],\n",
       " [0, 2*pi**7/7, 0, 2*pi**9/9, 0, 2*pi**11/11]]"
      ]
     },
     "execution_count": 10,
     "metadata": {},
     "output_type": "execute_result"
    }
   ],
   "source": [
    "A=[[dot(u,v) for u in basisset] for v in basisset]\n",
    "A"
   ]
  },
  {
   "cell_type": "code",
   "execution_count": 11,
   "id": "0251d275",
   "metadata": {},
   "outputs": [
    {
     "data": {
      "text/plain": [
       "[0, 2*pi, 0, -12*pi + 2*pi**3, 0, -40*pi**3 + 2*pi**5 + 240*pi]"
      ]
     },
     "execution_count": 11,
     "metadata": {},
     "output_type": "execute_result"
    }
   ],
   "source": [
    "b=[dot(x(t),u) for u in basisset]\n",
    "b"
   ]
  },
  {
   "cell_type": "code",
   "execution_count": 12,
   "id": "e296159a",
   "metadata": {},
   "outputs": [
    {
     "data": {
      "text/plain": [
       "(lambda0, lambda1, lambda2, lambda3, lambda4, lambda5)"
      ]
     },
     "execution_count": 12,
     "metadata": {},
     "output_type": "execute_result"
    }
   ],
   "source": [
    "lam = sp.symbols('lambda:'+str(n+1))\n",
    "lam"
   ]
  },
  {
   "cell_type": "code",
   "execution_count": 13,
   "id": "bf0dce33",
   "metadata": {},
   "outputs": [
    {
     "data": {
      "text/plain": [
       "{lambda0: 0,\n",
       " lambda2: 0,\n",
       " lambda4: 0,\n",
       " lambda1: (-16065*pi**2 + 105*pi**4 + 155925)/(8*pi**6),\n",
       " lambda3: (-363825 - 315*pi**4 + 39375*pi**2)/(4*pi**8),\n",
       " lambda5: (-72765*pi**2 + 693*pi**4 + 654885)/(8*pi**10)}"
      ]
     },
     "execution_count": 13,
     "metadata": {},
     "output_type": "execute_result"
    }
   ],
   "source": [
    "sol=sp.solve(np.dot(A,lam)-b)\n",
    "sol"
   ]
  },
  {
   "cell_type": "code",
   "execution_count": 14,
   "id": "2a6344f9",
   "metadata": {},
   "outputs": [
    {
     "data": {
      "text/latex": [
       "$\\displaystyle \\frac{t^{5} \\left(- 72765 \\pi^{2} + 693 \\pi^{4} + 654885\\right)}{8 \\pi^{10}} + \\frac{t^{3} \\left(-363825 - 315 \\pi^{4} + 39375 \\pi^{2}\\right)}{4 \\pi^{8}} + \\frac{t \\left(- 16065 \\pi^{2} + 105 \\pi^{4} + 155925\\right)}{8 \\pi^{6}}$"
      ],
      "text/plain": [
       "t**5*(-72765*pi**2 + 693*pi**4 + 654885)/(8*pi**10) + t**3*(-363825 - 315*pi**4 + 39375*pi**2)/(4*pi**8) + t*(-16065*pi**2 + 105*pi**4 + 155925)/(8*pi**6)"
      ]
     },
     "execution_count": 14,
     "metadata": {},
     "output_type": "execute_result"
    }
   ],
   "source": [
    "bestapprox= np.dot([sol[lami] for lami in lam],basisset)\n",
    "bestapprox"
   ]
  },
  {
   "cell_type": "code",
   "execution_count": 15,
   "id": "f4592320",
   "metadata": {},
   "outputs": [
    {
     "data": {
      "text/plain": [
       "[<matplotlib.lines.Line2D at 0x7fba1d010438>]"
      ]
     },
     "execution_count": 15,
     "metadata": {},
     "output_type": "execute_result"
    },
    {
     "data": {
      "image/png": "[encoded data removed]",
      "text/plain": [
       "<Figure size 432x288 with 1 Axes>"
      ]
     },
     "metadata": {
      "needs_background": "light"
     },
     "output_type": "display_data"
    }
   ],
   "source": [
    "tp = np.linspace(-np.pi,np.pi,400)\n",
    "plt.plot(tp,np.sin(tp))\n",
    "plt.plot(tp,sp.lambdify(t,bestapprox)(tp))\n"
   ]
  },
  {
   "cell_type": "code",
   "execution_count": 16,
   "id": "11d3fe0c",
   "metadata": {},
   "outputs": [
    {
     "data": {
      "text/plain": [
       "<function _lambdifygenerated(t)>"
      ]
     },
     "execution_count": 16,
     "metadata": {},
     "output_type": "execute_result"
    }
   ],
   "source": [
    "sp.lambdify(t,bestapprox)"
   ]
  },
  {
   "cell_type": "code",
   "execution_count": 19,
   "id": "51df4066",
   "metadata": {},
   "outputs": [
    {
     "data": {
      "text/latex": [
       "$\\displaystyle - \\frac{287280}{\\pi^{5}} - \\frac{19646550}{\\pi^{9}} - \\frac{42}{\\pi} + \\pi + \\frac{5040}{\\pi^{3}} + \\frac{4365900}{\\pi^{7}}$"
      ],
      "text/plain": [
       "-287280/pi**5 - 19646550/pi**9 - 42/pi + pi + 5040/pi**3 + 4365900/pi**7"
      ]
     },
     "execution_count": 19,
     "metadata": {},
     "output_type": "execute_result"
    }
   ],
   "source": [
    "sumsq = dot(bestapprox-x(t),bestapprox-x(t))\n",
    "sumsq"
   ]
  },
  {
   "cell_type": "code",
   "execution_count": 20,
   "id": "33ce9ab1",
   "metadata": {},
   "outputs": [
    {
     "data": {
      "text/latex": [
       "$\\displaystyle 0.000116168839090505$"
      ],
      "text/plain": [
       "0.000116168839090505"
      ]
     },
     "execution_count": 20,
     "metadata": {},
     "output_type": "execute_result"
    }
   ],
   "source": [
    "sumsq.evalf()"
   ]
  },
  {
   "cell_type": "code",
   "execution_count": 22,
   "id": "d24ce804",
   "metadata": {},
   "outputs": [
    {
     "data": {
      "text/plain": [
       "[<matplotlib.lines.Line2D at 0x7fb9c4a155f8>]"
      ]
     },
     "execution_count": 22,
     "metadata": {},
     "output_type": "execute_result"
    },
    {
     "data": {
      "image/png": "[encoded data removed]",
      "text/plain": [
       "<Figure size 432x288 with 1 Axes>"
      ]
     },
     "metadata": {
      "needs_background": "light"
     },
     "output_type": "display_data"
    }
   ],
   "source": [
    "plt.plot(tp,sp.lambdify(t,bestapprox)(tp)-np.sin(tp))"
   ]
  },
  {
   "cell_type": "code",
   "execution_count": null,
   "id": "8d884776",
   "metadata": {},
   "outputs": [],
   "source": []
  }
 ],
 "metadata": {
  "kernelspec": {
   "display_name": "Python 3 (ipykernel)",
   "language": "python",
   "name": "python3"
  },
  "language_info": {
   "codemirror_mode": {
    "name": "ipython",
    "version": 3
   },
   "file_extension": ".py",
   "mimetype": "text/x-python",
   "name": "python",
   "nbconvert_exporter": "python",
   "pygments_lexer": "ipython3",
   "version": "3.7.3"
  }
 },
 "nbformat": 4,
 "nbformat_minor": 5
}
