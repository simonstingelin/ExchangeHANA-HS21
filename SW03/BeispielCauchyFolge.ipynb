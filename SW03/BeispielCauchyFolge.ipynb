{
 "cells": [
  {
   "cell_type": "markdown",
   "metadata": {},
   "source": [
    "# Beispiel Cauchy Folge"
   ]
  },
  {
   "cell_type": "code",
   "execution_count": 1,
   "metadata": {},
   "outputs": [
    {
     "name": "stderr",
     "output_type": "stream",
     "text": [
      "Matplotlib created a temporary config/cache directory at /tmp/matplotlib-ykvgmzb3 because the default path (/home/jupyter-stiw/.cache/matplotlib) is not a writable directory; it is highly recommended to set the MPLCONFIGDIR environment variable to a writable directory, in particular to speed up the import of Matplotlib and to better support multiprocessing.\n"
     ]
    }
   ],
   "source": [
    "import sympy as sp\n",
    "import numpy as np\n",
    "import matplotlib.pyplot as plt\n",
    "from IPython.display import display"
   ]
  },
  {
   "cell_type": "code",
   "execution_count": 2,
   "metadata": {},
   "outputs": [],
   "source": [
    "def f(xn):\n",
    "    return 1/(1+xn)"
   ]
  },
  {
   "cell_type": "code",
   "execution_count": 3,
   "metadata": {},
   "outputs": [
    {
     "data": {
      "text/plain": [
       "array([1/3, 3/4, 4/7, 7/11, 11/18, 18/29, 29/47, 47/76, 76/123, 123/199,\n",
       "       199/322], dtype=object)"
      ]
     },
     "execution_count": 3,
     "metadata": {},
     "output_type": "execute_result"
    }
   ],
   "source": [
    "xn = sp.Rational(1,3)\n",
    "xns = [xn]\n",
    "for k in range(10):\n",
    "    xn =f(xn)\n",
    "    xns.append(xn)\n",
    "xns = np.array(xns)\n",
    "xns"
   ]
  },
  {
   "cell_type": "markdown",
   "metadata": {},
   "source": [
    "Wir erhalten eine Folge von rationaler Zahlen, daher $\\{x_n\\}_{n\\in \\mathbb{N}} \\subset \\mathbb{Q}$.\n",
    "\n",
    "Die Folge ist konvergent, jedoch gilt:\n",
    "\n",
    "$$\\lim_{n\\to \\infty} x_n \\not\\in \\mathbb{Q}.$$\n",
    "\n",
    "Unter der Annahme, dass die Folge konvergiert, sei $\\tilde{x} = \\lim_{n\\to \\infty} x_n$. Aus der Definition folgt sofort die Gleichung für $\\tilde{x}$:\n",
    "\n",
    "$$\\tilde{x} = f(\\tilde{x})$$\n",
    "\n",
    "also\n",
    "\n",
    "$$\\tilde{x} = \\frac{1}{1+\\tilde{x}}.$$"
   ]
  },
  {
   "cell_type": "code",
   "execution_count": 4,
   "metadata": {},
   "outputs": [
    {
     "data": {
      "text/plain": [
       "[-1/2 + sqrt(5)/2, -sqrt(5)/2 - 1/2]"
      ]
     },
     "execution_count": 4,
     "metadata": {},
     "output_type": "execute_result"
    }
   ],
   "source": [
    "xt = sp.symbols('xt')\n",
    "sol = sp.solve(xt -1/(1+xt) ,xt)\n",
    "sol"
   ]
  },
  {
   "cell_type": "markdown",
   "metadata": {},
   "source": [
    "In $\\mathbb{R}$ erhalten wir den Grenzwert $\\tilde{x} = -1/2 + \\sqrt{5}/2$."
   ]
  },
  {
   "cell_type": "code",
   "execution_count": 5,
   "metadata": {},
   "outputs": [
    {
     "data": {
      "image/png": "[encoded data removed]",
      "text/plain": [
       "<Figure size 432x288 with 1 Axes>"
      ]
     },
     "metadata": {
      "needs_background": "light"
     },
     "output_type": "display_data"
    }
   ],
   "source": [
    "plt.semilogy(np.abs(xns-sol[0]))\n",
    "plt.grid()"
   ]
  },
  {
   "cell_type": "markdown",
   "metadata": {},
   "source": [
    "Wir sehen, dass die Folge in $\\mathbb{Q}$ **nicht** konvergent ist, jedoch in $\\mathbb{R}$ konvergiert (vgl. Ausführungen Vorlesung)."
   ]
  }
 ],
 "metadata": {
  "kernelspec": {
   "display_name": "Python 3 (ipykernel)",
   "language": "python",
   "name": "python3"
  },
  "language_info": {
   "codemirror_mode": {
    "name": "ipython",
    "version": 3
   },
   "file_extension": ".py",
   "mimetype": "text/x-python",
   "name": "python",
   "nbconvert_exporter": "python",
   "pygments_lexer": "ipython3",
   "version": "3.7.3"
  }
 },
 "nbformat": 4,
 "nbformat_minor": 4
}
