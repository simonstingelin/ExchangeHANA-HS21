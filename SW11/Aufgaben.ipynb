{
 "cells": [
  {
   "cell_type": "markdown",
   "id": "142235fd",
   "metadata": {},
   "source": [
    "# Aufgabe 1"
   ]
  },
  {
   "cell_type": "code",
   "execution_count": 1,
   "id": "10d05fc3",
   "metadata": {},
   "outputs": [],
   "source": [
    "import numpy as np\n",
    "from sympy import symbols, integrate"
   ]
  },
  {
   "cell_type": "code",
   "execution_count": 2,
   "id": "7aff8e43",
   "metadata": {},
   "outputs": [],
   "source": [
    "# Basisfunktionen auf dem Referenzelement\n",
    "\n",
    "def myshape(t,j):\n",
    "    xi, eta = t\n",
    "    if j == 0:\n",
    "        return 1-xi-eta\n",
    "    elif j==1:\n",
    "        return xi\n",
    "    else:\n",
    "        return eta\n",
    "\n",
    "def Dmyshape(t,j):\n",
    "    xi, eta = t\n",
    "    if j == 0:\n",
    "        return np.array([-1,-1])#,dtype=np.float64)\n",
    "    elif j==1:\n",
    "        return np.array([1,0])#,dtype=np.float64)\n",
    "    else:\n",
    "        return np.array([0,1])#,dtype=np.float64)"
   ]
  },
  {
   "cell_type": "code",
   "execution_count": 3,
   "id": "571a415b",
   "metadata": {},
   "outputs": [],
   "source": [
    "xi,eta = symbols('xi,eta')"
   ]
  },
  {
   "cell_type": "code",
   "execution_count": 4,
   "id": "f2b65834",
   "metadata": {},
   "outputs": [
    {
     "data": {
      "text/plain": [
       "array([[1, -1/2, -1/2],\n",
       "       [-1/2, 1/2, 0],\n",
       "       [-1/2, 0, 1/2]], dtype=object)"
      ]
     },
     "execution_count": 4,
     "metadata": {},
     "output_type": "execute_result"
    }
   ],
   "source": [
    "Ae = np.array([[integrate(Dmyshape([xi,eta],j)@Dmyshape([xi,eta],k),(eta,0,1-xi),(xi,0,1)) \n",
    "                for k in range(3)] for j in range(3)])\n",
    "Ae"
   ]
  },
  {
   "cell_type": "code",
   "execution_count": 5,
   "id": "9796d65e",
   "metadata": {},
   "outputs": [
    {
     "data": {
      "text/plain": [
       "array([[1/12, 1/24, 1/24],\n",
       "       [1/24, 1/12, 1/24],\n",
       "       [1/24, 1/24, 1/12]], dtype=object)"
      ]
     },
     "execution_count": 5,
     "metadata": {},
     "output_type": "execute_result"
    }
   ],
   "source": [
    "Me = np.array([[integrate(myshape([xi,eta],j)*myshape([xi,eta],k),(eta,0,1-xi),(xi,0,1))\n",
    "                for k in range(3)] for j in range(3)])\n",
    "Me"
   ]
  },
  {
   "cell_type": "markdown",
   "id": "c80dd87c",
   "metadata": {},
   "source": [
    "# Aufgabe 2"
   ]
  },
  {
   "cell_type": "code",
   "execution_count": 7,
   "id": "a3ae45a4",
   "metadata": {},
   "outputs": [
    {
     "name": "stderr",
     "output_type": "stream",
     "text": [
      "Matplotlib created a temporary config/cache directory at /tmp/matplotlib-zt5iputl because the default path (/home/jupyter-stiw/.cache/matplotlib) is not a writable directory; it is highly recommended to set the MPLCONFIGDIR environment variable to a writable directory, in particular to speed up the import of Matplotlib and to better support multiprocessing.\n"
     ]
    }
   ],
   "source": [
    "import matplotlib.pyplot as plt"
   ]
  },
  {
   "cell_type": "code",
   "execution_count": 8,
   "id": "c98ba27d",
   "metadata": {},
   "outputs": [],
   "source": [
    "pts = np.array([\n",
    "    [0,0],\n",
    "    [0.5,0],\n",
    "    [1,0],\n",
    "    [0,0.5],\n",
    "    [0.5,0.5],\n",
    "    [1,0.5],\n",
    "    [0,1],\n",
    "    [0.5,1],\n",
    "    [1,1]\n",
    "])"
   ]
  },
  {
   "cell_type": "code",
   "execution_count": 12,
   "id": "fadb43c0",
   "metadata": {},
   "outputs": [
    {
     "data": {
      "image/png": "[encoded data removed]",
      "text/plain": [
       "<Figure size 432x288 with 1 Axes>"
      ]
     },
     "metadata": {
      "needs_background": "light"
     },
     "output_type": "display_data"
    }
   ],
   "source": [
    "plt.plot(*pts.T,'o')\n",
    "plt.gca().set_aspect(1)\n",
    "plt.grid()\n",
    "plt.show()"
   ]
  },
  {
   "cell_type": "code",
   "execution_count": 22,
   "id": "22da580e",
   "metadata": {},
   "outputs": [],
   "source": [
    "T = np.array([\n",
    "    [0,1,3],\n",
    "    [1,4,3],\n",
    "    [1,2,4],\n",
    "    [2,5,4],\n",
    "    [3,4,6],\n",
    "    [4,7,6],\n",
    "    [4,5,7],\n",
    "    [5,8,7]\n",
    "])"
   ]
  },
  {
   "cell_type": "code",
   "execution_count": 23,
   "id": "a51645a2",
   "metadata": {},
   "outputs": [
    {
     "data": {
      "image/png": "[encoded data removed]",
      "text/plain": [
       "<Figure size 432x288 with 1 Axes>"
      ]
     },
     "metadata": {
      "needs_background": "light"
     },
     "output_type": "display_data"
    }
   ],
   "source": [
    "for t in T:\n",
    "    plt.plot(*pts[np.concatenate([t,[t[0]]])].T)\n",
    "plt.gca().set_aspect(1)\n",
    "plt.grid()\n",
    "plt.show()"
   ]
  },
  {
   "cell_type": "code",
   "execution_count": 24,
   "id": "3df2becf",
   "metadata": {},
   "outputs": [],
   "source": [
    "def invDsigma(p1,p2,p3):\n",
    "    return np.linalg.inv(np.array([(p2-p1),(p3-p1)]).T)"
   ]
  },
  {
   "cell_type": "code",
   "execution_count": 25,
   "id": "e4d420eb",
   "metadata": {},
   "outputs": [],
   "source": [
    "# Berechnung der C_i Matrix und Jacobi Determinante\n",
    "def CnJ(p1,p2,p3):\n",
    "    A = np.array([(p2-p1),(p3-p1)]).T\n",
    "    invA = np.linalg.inv(A)\n",
    "    return invA@invA.T, np.linalg.det(A)\n",
    "\n",
    "# Gebietsintegration über Einheitsdreieck\n",
    "from scipy.integrate import dblquad\n",
    "def quadT(f):\n",
    "    return dblquad(f, 0, 1, 0, lambda x: 1-x)[0]"
   ]
  },
  {
   "cell_type": "code",
   "execution_count": 27,
   "id": "a099e747",
   "metadata": {},
   "outputs": [
    {
     "data": {
      "text/plain": [
       "array([[0. , 0. ],\n",
       "       [0.5, 0. ],\n",
       "       [0. , 0.5]])"
      ]
     },
     "execution_count": 27,
     "metadata": {},
     "output_type": "execute_result"
    }
   ],
   "source": [
    "pts[T[0]]"
   ]
  },
  {
   "cell_type": "code",
   "execution_count": 34,
   "id": "56ebe7fd",
   "metadata": {},
   "outputs": [
    {
     "data": {
      "text/plain": [
       "array([4, 7, 6])"
      ]
     },
     "execution_count": 34,
     "metadata": {},
     "output_type": "execute_result"
    }
   ],
   "source": [
    "T[5]"
   ]
  },
  {
   "cell_type": "code",
   "execution_count": 35,
   "id": "e695ee38",
   "metadata": {},
   "outputs": [
    {
     "data": {
      "text/plain": [
       "(array([[4],\n",
       "        [7],\n",
       "        [6]]),\n",
       " array([[4, 7, 6]]))"
      ]
     },
     "execution_count": 35,
     "metadata": {},
     "output_type": "execute_result"
    }
   ],
   "source": [
    "np.ix_(T[5],T[5])"
   ]
  },
  {
   "cell_type": "code",
   "execution_count": 41,
   "id": "2505019c",
   "metadata": {},
   "outputs": [],
   "source": [
    "def myfun(x):\n",
    "    return 1"
   ]
  },
  {
   "cell_type": "code",
   "execution_count": 43,
   "id": "1d8cc2a0",
   "metadata": {},
   "outputs": [],
   "source": [
    "A = np.zeros((pts.shape[0],pts.shape[0]))\n",
    "f = np.zeros(pts.shape[0])\n",
    "for t in T:\n",
    "    # lokale Elemetmatrix berechnen\n",
    "    Ci, Ji = CnJ(*pts[t])\n",
    "    Ai = np.array([[ quadT(lambda x,y: Dmyshape([x,y], j)@Ci@Dmyshape([x,y], k)*Ji)\n",
    "           for k in range(3)] for j in range(3)])\n",
    "    # an globalen Freiheitsgrade speichern\n",
    "    A[np.ix_(t,t)] += Ai\n",
    "    \n",
    "    # lokale rechte Seite\n",
    "    fi = np.array([quadT(lambda x,y: \n",
    "                         myfun(pts[t[0]]+np.array([pts[t[1]]-pts[t[0]],pts[t[2]]-pts[t[0]]])@np.array([x,y]))\n",
    "                         *myshape([x,y], j)*Ji) for j in range(3)])\n",
    "    # globale rechte Seite\n",
    "    f[t] += fi"
   ]
  },
  {
   "cell_type": "code",
   "execution_count": 44,
   "id": "a647b9d2",
   "metadata": {},
   "outputs": [
    {
     "data": {
      "text/plain": [
       "array([[ 1. , -0.5,  0. , -0.5,  0. ,  0. ,  0. ,  0. ,  0. ],\n",
       "       [-0.5,  2. , -0.5,  0. , -1. ,  0. ,  0. ,  0. ,  0. ],\n",
       "       [ 0. , -0.5,  1. ,  0. ,  0. , -0.5,  0. ,  0. ,  0. ],\n",
       "       [-0.5,  0. ,  0. ,  2. , -1. ,  0. , -0.5,  0. ,  0. ],\n",
       "       [ 0. , -1. ,  0. , -1. ,  4. , -1. ,  0. , -1. ,  0. ],\n",
       "       [ 0. ,  0. , -0.5,  0. , -1. ,  2. ,  0. ,  0. , -0.5],\n",
       "       [ 0. ,  0. ,  0. , -0.5,  0. ,  0. ,  1. , -0.5,  0. ],\n",
       "       [ 0. ,  0. ,  0. ,  0. , -1. ,  0. , -0.5,  2. , -0.5],\n",
       "       [ 0. ,  0. ,  0. ,  0. ,  0. , -0.5,  0. , -0.5,  1. ]])"
      ]
     },
     "execution_count": 44,
     "metadata": {},
     "output_type": "execute_result"
    }
   ],
   "source": [
    "A"
   ]
  },
  {
   "cell_type": "code",
   "execution_count": 45,
   "id": "9e21f236",
   "metadata": {},
   "outputs": [
    {
     "data": {
      "text/plain": [
       "array([0.04166667, 0.125     , 0.08333333, 0.125     , 0.25      ,\n",
       "       0.125     , 0.08333333, 0.125     , 0.04166667])"
      ]
     },
     "execution_count": 45,
     "metadata": {},
     "output_type": "execute_result"
    }
   ],
   "source": [
    "f"
   ]
  },
  {
   "cell_type": "code",
   "execution_count": 38,
   "id": "2d77bb9b",
   "metadata": {},
   "outputs": [
    {
     "data": {
      "text/plain": [
       "<matplotlib.image.AxesImage at 0x7f83536cae10>"
      ]
     },
     "execution_count": 38,
     "metadata": {},
     "output_type": "execute_result"
    },
    {
     "data": {
      "image/png": "[encoded data removed]",
      "text/plain": [
       "<Figure size 432x288 with 1 Axes>"
      ]
     },
     "metadata": {
      "needs_background": "light"
     },
     "output_type": "display_data"
    }
   ],
   "source": [
    "plt.spy(A)"
   ]
  },
  {
   "cell_type": "code",
   "execution_count": null,
   "id": "24b04b48",
   "metadata": {},
   "outputs": [],
   "source": []
  }
 ],
 "metadata": {
  "kernelspec": {
   "display_name": "Python 3 (ipykernel)",
   "language": "python",
   "name": "python3"
  },
  "language_info": {
   "codemirror_mode": {
    "name": "ipython",
    "version": 3
   },
   "file_extension": ".py",
   "mimetype": "text/x-python",
   "name": "python",
   "nbconvert_exporter": "python",
   "pygments_lexer": "ipython3",
   "version": "3.7.3"
  }
 },
 "nbformat": 4,
 "nbformat_minor": 5
}
